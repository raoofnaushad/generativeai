{
 "cells": [
  {
   "cell_type": "markdown",
   "metadata": {},
   "source": [
    "# Documents & Metadata"
   ]
  },
  {
   "cell_type": "code",
   "execution_count": 10,
   "metadata": {},
   "outputs": [],
   "source": [
    "import os\n",
    "import sys\n"
   ]
  },
  {
   "cell_type": "code",
   "execution_count": 11,
   "metadata": {},
   "outputs": [
    {
     "data": {
      "text/plain": [
       "'/Users/raoofmac/Documents/coding/learning/genai/rag/llama_bottoms_up_approaches'"
      ]
     },
     "execution_count": 11,
     "metadata": {},
     "output_type": "execute_result"
    }
   ],
   "source": [
    "os.getcwd()"
   ]
  },
  {
   "cell_type": "code",
   "execution_count": 44,
   "metadata": {},
   "outputs": [],
   "source": [
    "from utils.markdown_docs_reader import MarkdownDocsReader\n",
    "from llama_index.core import SimpleDirectoryReader\n",
    "\n",
    "\n",
    "def load_markdown_docs(filepath):\n",
    "    \"\"\"Load markdown docs from a directory, excluding all other file types.\"\"\"\n",
    "    loader = SimpleDirectoryReader(\n",
    "        input_dir=filepath, \n",
    "        exclude=[\"*.rst\", \"*.ipynb\", \"*.py\", \"*.bat\", \"*.txt\", \"*.png\", \"*.jpg\", \"*.jpeg\", \"*.csv\", \"*.html\", \"*.js\", \"*.css\", \"*.pdf\", \"*.json\"],\n",
    "        file_extractor={\".md\": MarkdownDocsReader()},\n",
    "        recursive=True\n",
    "    )\n",
    "\n",
    "    return loader.load_data()"
   ]
  },
  {
   "cell_type": "code",
   "execution_count": 45,
   "metadata": {},
   "outputs": [],
   "source": [
    "## Load our documents from each folder.\n",
    "\n",
    "base_path = '/Users/raoofmac/Documents/coding/learning/genai'\n",
    "\n",
    "getting_started_docs =  load_markdown_docs(os.path.join(base_path, \"docs/getting_started\"))\n",
    "community_docs =  load_markdown_docs(os.path.join(base_path, \"docs/community\"))\n",
    "data_docs =  load_markdown_docs(os.path.join(base_path, \"docs/core_modules/data_modules\"))\n",
    "agent_docs =  load_markdown_docs(os.path.join(base_path, \"docs/core_modules/agent_modules\"))\n",
    "model_docs =  load_markdown_docs(os.path.join(base_path, \"docs/core_modules/model_modules\"))\n",
    "query_docs =  load_markdown_docs(os.path.join(base_path, \"docs/core_modules/query_modules\"))\n",
    "supporting_docs =  load_markdown_docs(os.path.join(base_path, \"docs/core_modules/supporting_modules\"))\n",
    "tutorial_docs =  load_markdown_docs(os.path.join(base_path, \"docs/end_to_end_tutorials\"))\n",
    "contributing_docs =  load_markdown_docs(os.path.join(base_path, \"docs/development\"))"
   ]
  },
  {
   "cell_type": "code",
   "execution_count": 46,
   "metadata": {},
   "outputs": [],
   "source": [
    "## To make the print look cool\n",
    "from llama_index.core.schema import MetadataMode"
   ]
  },
  {
   "cell_type": "code",
   "execution_count": 47,
   "metadata": {},
   "outputs": [
    {
     "name": "stdout",
     "output_type": "stream",
     "text": [
      "File Name: /Users/raoofmac/Documents/coding/learning/genai/docs/getting_started/concepts.md\n",
      "Content Type: code\n",
      "Header Path: High-Level Concepts\n",
      "file_path: /Users/raoofmac/Documents/coding/learning/genai/docs/getting_started/concepts.md\n",
      "file_name: concepts.md\n",
      "file_type: None\n",
      "file_size: 5045\n",
      "creation_date: 2024-02-18\n",
      "last_modified_date: 2024-02-18\n",
      "last_accessed_date: 2024-02-18\n",
      "\n",
      "```{tip}\n",
      "If you haven't, install and complete starter tutorial before you read this. It will make a lot more sense!\n",
      "```\n"
     ]
    }
   ],
   "source": [
    "print(getting_started_docs[0].get_content(metadata_mode=MetadataMode.ALL))"
   ]
  },
  {
   "cell_type": "code",
   "execution_count": 48,
   "metadata": {},
   "outputs": [
    {
     "name": "stdout",
     "output_type": "stream",
     "text": [
      "{'File Name': '/Users/raoofmac/Documents/coding/learning/genai/docs/core_modules/agent_modules/agents/modules.md', 'Content Type': 'text', 'Header Path': 'Module Guides', 'Links': '', 'file_path': '/Users/raoofmac/Documents/coding/learning/genai/docs/core_modules/agent_modules/agents/modules.md', 'file_name': 'modules.md', 'file_type': None, 'file_size': 619, 'creation_date': '2024-02-18', 'last_modified_date': '2024-02-18', 'last_accessed_date': '2024-02-18'}\n"
     ]
    }
   ],
   "source": [
    "print(agent_docs[0].metadata)"
   ]
  },
  {
   "cell_type": "code",
   "execution_count": 49,
   "metadata": {},
   "outputs": [],
   "source": [
    "text_template = \"Content Metadata:\\n{metadata_str}\\n\\nContent:\\n{content}\"\n",
    "\n",
    "metadata_template = \"{key}: {value},\"\n",
    "metadata_seperator = \" \"\n",
    "\n",
    "for doc in agent_docs:\n",
    "    doc.text_template = text_template\n",
    "    doc.metadata_template = metadata_template\n",
    "    doc.metadata_seperator = metadata_seperator\n",
    "\n"
   ]
  },
  {
   "cell_type": "code",
   "execution_count": 50,
   "metadata": {},
   "outputs": [
    {
     "name": "stdout",
     "output_type": "stream",
     "text": [
      "Content Metadata:\n",
      "File Name: /Users/raoofmac/Documents/coding/learning/genai/docs/core_modules/agent_modules/agents/modules.md, Content Type: text, Header Path: Module Guides, Links: , file_path: /Users/raoofmac/Documents/coding/learning/genai/docs/core_modules/agent_modules/agents/modules.md, file_name: modules.md, file_type: None, file_size: 619, creation_date: 2024-02-18, last_modified_date: 2024-02-18, last_accessed_date: 2024-02-18,\n",
      "\n",
      "Content:\n",
      "These guide provide an overview of how to use our agent classes.\n",
      "\n",
      "For more detailed guides on how to use specific tools, check out our tools module guides.\n"
     ]
    }
   ],
   "source": [
    "print(agent_docs[0].get_content(metadata_mode=MetadataMode.ALL))"
   ]
  },
  {
   "cell_type": "markdown",
   "metadata": {},
   "source": [
    "### Advance Customization"
   ]
  },
  {
   "cell_type": "code",
   "execution_count": 55,
   "metadata": {},
   "outputs": [
    {
     "name": "stdout",
     "output_type": "stream",
     "text": [
      "Content Metadata:\n",
      "Content Type: text, Header Path: Module Guides, Links: , file_path: /Users/raoofmac/Documents/coding/learning/genai/docs/core_modules/agent_modules/agents/modules.md, file_name: modules.md, file_type: None, file_size: 619, creation_date: 2024-02-18, last_modified_date: 2024-02-18, last_accessed_date: 2024-02-18,\n",
      "\n",
      "Content:\n",
      "These guide provide an overview of how to use our agent classes.\n",
      "\n",
      "For more detailed guides on how to use specific tools, check out our tools module guides.\n"
     ]
    }
   ],
   "source": [
    "agent_docs[0].excluded_llm_metadata_keys = [\"File Name\"]\n",
    "print(agent_docs[0].get_content(metadata_mode=MetadataMode.LLM))"
   ]
  },
  {
   "cell_type": "code",
   "execution_count": 54,
   "metadata": {},
   "outputs": [
    {
     "name": "stdout",
     "output_type": "stream",
     "text": [
      "Content Metadata:\n",
      "Content Type: text, Header Path: Module Guides, Links: , file_path: /Users/raoofmac/Documents/coding/learning/genai/docs/core_modules/agent_modules/agents/modules.md, file_name: modules.md, file_type: None, file_size: 619, creation_date: 2024-02-18, last_modified_date: 2024-02-18, last_accessed_date: 2024-02-18,\n",
      "\n",
      "Content:\n",
      "These guide provide an overview of how to use our agent classes.\n",
      "\n",
      "For more detailed guides on how to use specific tools, check out our tools module guides.\n"
     ]
    }
   ],
   "source": [
    "agent_docs[0].excluded_embed_metadata_keys = [\"File Name\"]\n",
    "print(agent_docs[0].get_content(metadata_mode=MetadataMode.EMBED))"
   ]
  },
  {
   "cell_type": "code",
   "execution_count": null,
   "metadata": {},
   "outputs": [],
   "source": []
  }
 ],
 "metadata": {
  "kernelspec": {
   "display_name": "venv",
   "language": "python",
   "name": "python3"
  },
  "language_info": {
   "codemirror_mode": {
    "name": "ipython",
    "version": 3
   },
   "file_extension": ".py",
   "mimetype": "text/x-python",
   "name": "python",
   "nbconvert_exporter": "python",
   "pygments_lexer": "ipython3",
   "version": "3.9.6"
  }
 },
 "nbformat": 4,
 "nbformat_minor": 2
}
